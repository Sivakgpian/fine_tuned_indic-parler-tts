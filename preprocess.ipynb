{
 "cells": [
  {
   "cell_type": "markdown",
   "metadata": {},
   "source": [
    "# segmenting audio files into small chunks by putting a silence threshold."
   ]
  },
  {
   "cell_type": "code",
   "execution_count": null,
   "metadata": {},
   "outputs": [],
   "source": [
    "import os\n",
    "from pydub import AudioSegment\n",
    "from pydub.silence import split_on_silence"
   ]
  },
  {
   "cell_type": "code",
   "execution_count": 6,
   "metadata": {},
   "outputs": [
    {
     "name": "stdout",
     "output_type": "stream",
     "text": [
      "Processing siva_audio_val/siva_val1.wav...\n",
      "Created 152 segments: ['siva_audio_val_segments/siva_val1_chunk1.wav', 'siva_audio_val_segments/siva_val1_chunk2.wav', 'siva_audio_val_segments/siva_val1_chunk3.wav', 'siva_audio_val_segments/siva_val1_chunk4.wav', 'siva_audio_val_segments/siva_val1_chunk5.wav', 'siva_audio_val_segments/siva_val1_chunk6.wav', 'siva_audio_val_segments/siva_val1_chunk7.wav', 'siva_audio_val_segments/siva_val1_chunk8.wav', 'siva_audio_val_segments/siva_val1_chunk9.wav', 'siva_audio_val_segments/siva_val1_chunk10.wav', 'siva_audio_val_segments/siva_val1_chunk11.wav', 'siva_audio_val_segments/siva_val1_chunk12.wav', 'siva_audio_val_segments/siva_val1_chunk13.wav', 'siva_audio_val_segments/siva_val1_chunk14.wav', 'siva_audio_val_segments/siva_val1_chunk15.wav', 'siva_audio_val_segments/siva_val1_chunk16.wav', 'siva_audio_val_segments/siva_val1_chunk17.wav', 'siva_audio_val_segments/siva_val1_chunk18.wav', 'siva_audio_val_segments/siva_val1_chunk19.wav', 'siva_audio_val_segments/siva_val1_chunk20.wav', 'siva_audio_val_segments/siva_val1_chunk21.wav', 'siva_audio_val_segments/siva_val1_chunk22.wav', 'siva_audio_val_segments/siva_val1_chunk23.wav', 'siva_audio_val_segments/siva_val1_chunk24.wav', 'siva_audio_val_segments/siva_val1_chunk25.wav', 'siva_audio_val_segments/siva_val1_chunk26.wav', 'siva_audio_val_segments/siva_val1_chunk27.wav', 'siva_audio_val_segments/siva_val1_chunk28.wav', 'siva_audio_val_segments/siva_val1_chunk29.wav', 'siva_audio_val_segments/siva_val1_chunk30.wav', 'siva_audio_val_segments/siva_val1_chunk31.wav', 'siva_audio_val_segments/siva_val1_chunk32.wav', 'siva_audio_val_segments/siva_val1_chunk33.wav', 'siva_audio_val_segments/siva_val1_chunk34.wav', 'siva_audio_val_segments/siva_val1_chunk35.wav', 'siva_audio_val_segments/siva_val1_chunk36.wav', 'siva_audio_val_segments/siva_val1_chunk37.wav', 'siva_audio_val_segments/siva_val1_chunk38.wav', 'siva_audio_val_segments/siva_val1_chunk39.wav', 'siva_audio_val_segments/siva_val1_chunk40.wav', 'siva_audio_val_segments/siva_val1_chunk41.wav', 'siva_audio_val_segments/siva_val1_chunk42.wav', 'siva_audio_val_segments/siva_val1_chunk43.wav', 'siva_audio_val_segments/siva_val1_chunk44.wav', 'siva_audio_val_segments/siva_val1_chunk45.wav', 'siva_audio_val_segments/siva_val1_chunk46.wav', 'siva_audio_val_segments/siva_val1_chunk47.wav', 'siva_audio_val_segments/siva_val1_chunk48.wav', 'siva_audio_val_segments/siva_val1_chunk49.wav', 'siva_audio_val_segments/siva_val1_chunk50.wav', 'siva_audio_val_segments/siva_val1_chunk51.wav', 'siva_audio_val_segments/siva_val1_chunk52.wav', 'siva_audio_val_segments/siva_val1_chunk53.wav', 'siva_audio_val_segments/siva_val1_chunk54.wav', 'siva_audio_val_segments/siva_val1_chunk55.wav', 'siva_audio_val_segments/siva_val1_chunk56.wav', 'siva_audio_val_segments/siva_val1_chunk57.wav', 'siva_audio_val_segments/siva_val1_chunk58.wav', 'siva_audio_val_segments/siva_val1_chunk59.wav', 'siva_audio_val_segments/siva_val1_chunk60.wav', 'siva_audio_val_segments/siva_val1_chunk61.wav', 'siva_audio_val_segments/siva_val1_chunk62.wav', 'siva_audio_val_segments/siva_val1_chunk63.wav', 'siva_audio_val_segments/siva_val1_chunk64.wav', 'siva_audio_val_segments/siva_val1_chunk65.wav', 'siva_audio_val_segments/siva_val1_chunk66.wav', 'siva_audio_val_segments/siva_val1_chunk67.wav', 'siva_audio_val_segments/siva_val1_chunk68.wav', 'siva_audio_val_segments/siva_val1_chunk69.wav', 'siva_audio_val_segments/siva_val1_chunk70.wav', 'siva_audio_val_segments/siva_val1_chunk71.wav', 'siva_audio_val_segments/siva_val1_chunk72.wav', 'siva_audio_val_segments/siva_val1_chunk73.wav', 'siva_audio_val_segments/siva_val1_chunk74.wav', 'siva_audio_val_segments/siva_val1_chunk75.wav', 'siva_audio_val_segments/siva_val1_chunk76.wav', 'siva_audio_val_segments/siva_val1_chunk77.wav', 'siva_audio_val_segments/siva_val1_chunk78.wav', 'siva_audio_val_segments/siva_val1_chunk79.wav', 'siva_audio_val_segments/siva_val1_chunk80.wav', 'siva_audio_val_segments/siva_val1_chunk81.wav', 'siva_audio_val_segments/siva_val1_chunk82.wav', 'siva_audio_val_segments/siva_val1_chunk83.wav', 'siva_audio_val_segments/siva_val1_chunk84.wav', 'siva_audio_val_segments/siva_val1_chunk85.wav', 'siva_audio_val_segments/siva_val1_chunk86.wav', 'siva_audio_val_segments/siva_val1_chunk87.wav', 'siva_audio_val_segments/siva_val1_chunk88.wav', 'siva_audio_val_segments/siva_val1_chunk89.wav', 'siva_audio_val_segments/siva_val1_chunk90.wav', 'siva_audio_val_segments/siva_val1_chunk91.wav', 'siva_audio_val_segments/siva_val1_chunk92.wav', 'siva_audio_val_segments/siva_val1_chunk93.wav', 'siva_audio_val_segments/siva_val1_chunk94.wav', 'siva_audio_val_segments/siva_val1_chunk95.wav', 'siva_audio_val_segments/siva_val1_chunk96.wav', 'siva_audio_val_segments/siva_val1_chunk97.wav', 'siva_audio_val_segments/siva_val1_chunk98.wav', 'siva_audio_val_segments/siva_val1_chunk99.wav', 'siva_audio_val_segments/siva_val1_chunk100.wav', 'siva_audio_val_segments/siva_val1_chunk101.wav', 'siva_audio_val_segments/siva_val1_chunk102.wav', 'siva_audio_val_segments/siva_val1_chunk103.wav', 'siva_audio_val_segments/siva_val1_chunk104.wav', 'siva_audio_val_segments/siva_val1_chunk105.wav', 'siva_audio_val_segments/siva_val1_chunk106.wav', 'siva_audio_val_segments/siva_val1_chunk107.wav', 'siva_audio_val_segments/siva_val1_chunk108.wav', 'siva_audio_val_segments/siva_val1_chunk109.wav', 'siva_audio_val_segments/siva_val1_chunk110.wav', 'siva_audio_val_segments/siva_val1_chunk111.wav', 'siva_audio_val_segments/siva_val1_chunk112.wav', 'siva_audio_val_segments/siva_val1_chunk113.wav', 'siva_audio_val_segments/siva_val1_chunk114.wav', 'siva_audio_val_segments/siva_val1_chunk115.wav', 'siva_audio_val_segments/siva_val1_chunk116.wav', 'siva_audio_val_segments/siva_val1_chunk117.wav', 'siva_audio_val_segments/siva_val1_chunk118.wav', 'siva_audio_val_segments/siva_val1_chunk119.wav', 'siva_audio_val_segments/siva_val1_chunk120.wav', 'siva_audio_val_segments/siva_val1_chunk121.wav', 'siva_audio_val_segments/siva_val1_chunk122.wav', 'siva_audio_val_segments/siva_val1_chunk123.wav', 'siva_audio_val_segments/siva_val1_chunk124.wav', 'siva_audio_val_segments/siva_val1_chunk125.wav', 'siva_audio_val_segments/siva_val1_chunk126.wav', 'siva_audio_val_segments/siva_val1_chunk127.wav', 'siva_audio_val_segments/siva_val1_chunk128.wav', 'siva_audio_val_segments/siva_val1_chunk129.wav', 'siva_audio_val_segments/siva_val1_chunk130.wav', 'siva_audio_val_segments/siva_val1_chunk131.wav', 'siva_audio_val_segments/siva_val1_chunk132.wav', 'siva_audio_val_segments/siva_val1_chunk133.wav', 'siva_audio_val_segments/siva_val1_chunk134.wav', 'siva_audio_val_segments/siva_val1_chunk135.wav', 'siva_audio_val_segments/siva_val1_chunk136.wav', 'siva_audio_val_segments/siva_val1_chunk137.wav', 'siva_audio_val_segments/siva_val1_chunk138.wav', 'siva_audio_val_segments/siva_val1_chunk139.wav', 'siva_audio_val_segments/siva_val1_chunk140.wav', 'siva_audio_val_segments/siva_val1_chunk141.wav', 'siva_audio_val_segments/siva_val1_chunk142.wav', 'siva_audio_val_segments/siva_val1_chunk143.wav', 'siva_audio_val_segments/siva_val1_chunk144.wav', 'siva_audio_val_segments/siva_val1_chunk145.wav', 'siva_audio_val_segments/siva_val1_chunk146.wav', 'siva_audio_val_segments/siva_val1_chunk147.wav', 'siva_audio_val_segments/siva_val1_chunk148.wav', 'siva_audio_val_segments/siva_val1_chunk149.wav', 'siva_audio_val_segments/siva_val1_chunk150.wav', 'siva_audio_val_segments/siva_val1_chunk151.wav', 'siva_audio_val_segments/siva_val1_chunk152.wav']\n"
     ]
    }
   ],
   "source": [
    "def segment_audio(input_file, output_dir, silence_thresh=-30, min_silence_len=2200, padding=100):\n",
    "    \n",
    "    audio = AudioSegment.from_file(input_file)\n",
    "    segments = split_on_silence(\n",
    "        audio,\n",
    "        min_silence_len=min_silence_len,  \n",
    "        silence_thresh=silence_thresh,    \n",
    "        keep_silence=padding            \n",
    "    )\n",
    "\n",
    "    base_filename = os.path.splitext(os.path.basename(input_file))[0]\n",
    "    segment_files = []\n",
    "    for i, segment in enumerate(segments):\n",
    "        segment_filename = f\"{base_filename}_chunk{i+1}.wav\"\n",
    "        segment_file_path = os.path.join(output_dir, segment_filename)\n",
    "        segment.export(segment_file_path, format=\"wav\")\n",
    "        segment_files.append(segment_file_path)\n",
    "\n",
    "    return segment_files\n",
    "\n",
    "def process_directory(input_directory, output_directory):\n",
    "    if not os.path.exists(output_directory):\n",
    "        os.makedirs(output_directory)\n",
    "\n",
    "    for filename in os.listdir(input_directory):\n",
    "        if filename.endswith(\".wav\"):\n",
    "            file_path = os.path.join(input_directory, filename)\n",
    "            print(f\"Processing {file_path}...\")\n",
    "            segments = segment_audio(file_path, output_directory)\n",
    "            print(f\"Created {len(segments)} segments: {segments}\")\n",
    "\n",
    "\n",
    "input_directory = \"siva_audio_val\" \n",
    "output_directory = \"siva_audio_val_segments\"  \n",
    "process_directory(input_directory, output_directory)\n"
   ]
  },
  {
   "cell_type": "code",
   "execution_count": null,
   "metadata": {},
   "outputs": [],
   "source": []
  },
  {
   "cell_type": "markdown",
   "metadata": {},
   "source": [
    "# Transcribing these audio segments into texts using speechRecognition.\n",
    "# Considering only those files which has less than 30 seconds duration"
   ]
  },
  {
   "cell_type": "code",
   "execution_count": 8,
   "metadata": {},
   "outputs": [
    {
     "name": "stdout",
     "output_type": "stream",
     "text": [
      "Processing siva_audio_val_segments/siva_val1_chunk148.wav...\n",
      "Valid chunk and transcription saved: Siva_validation_audio/siva_val1_chunk148.wav and Siva_validation_texts/siva_val1_chunk148.txt\n",
      "Processing siva_audio_val_segments/siva_val1_chunk74.wav...\n",
      "Valid chunk and transcription saved: Siva_validation_audio/siva_val1_chunk74.wav and Siva_validation_texts/siva_val1_chunk74.txt\n",
      "Processing siva_audio_val_segments/siva_val1_chunk15.wav...\n",
      "Valid chunk and transcription saved: Siva_validation_audio/siva_val1_chunk15.wav and Siva_validation_texts/siva_val1_chunk15.txt\n",
      "Processing siva_audio_val_segments/siva_val1_chunk29.wav...\n",
      "Valid chunk and transcription saved: Siva_validation_audio/siva_val1_chunk29.wav and Siva_validation_texts/siva_val1_chunk29.txt\n",
      "Processing siva_audio_val_segments/siva_val1_chunk94.wav...\n",
      "Valid chunk and transcription saved: Siva_validation_audio/siva_val1_chunk94.wav and Siva_validation_texts/siva_val1_chunk94.txt\n",
      "Processing siva_audio_val_segments/siva_val1_chunk48.wav...\n",
      "Valid chunk and transcription saved: Siva_validation_audio/siva_val1_chunk48.wav and Siva_validation_texts/siva_val1_chunk48.txt\n",
      "Processing siva_audio_val_segments/siva_val1_chunk138.wav...\n",
      "Valid chunk and transcription saved: Siva_validation_audio/siva_val1_chunk138.wav and Siva_validation_texts/siva_val1_chunk138.txt\n",
      "Processing siva_audio_val_segments/siva_val1_chunk132.wav...\n",
      "Valid chunk and transcription saved: Siva_validation_audio/siva_val1_chunk132.wav and Siva_validation_texts/siva_val1_chunk132.txt\n",
      "Processing siva_audio_val_segments/siva_val1_chunk61.wav...\n",
      "Valid chunk and transcription saved: Siva_validation_audio/siva_val1_chunk61.wav and Siva_validation_texts/siva_val1_chunk61.txt\n",
      "Processing siva_audio_val_segments/siva_val1_chunk60.wav...\n",
      "Valid chunk and transcription saved: Siva_validation_audio/siva_val1_chunk60.wav and Siva_validation_texts/siva_val1_chunk60.txt\n",
      "Processing siva_audio_val_segments/siva_val1_chunk71.wav...\n",
      "Valid chunk and transcription saved: Siva_validation_audio/siva_val1_chunk71.wav and Siva_validation_texts/siva_val1_chunk71.txt\n",
      "Processing siva_audio_val_segments/siva_val1_chunk9.wav...\n",
      "Valid chunk and transcription saved: Siva_validation_audio/siva_val1_chunk9.wav and Siva_validation_texts/siva_val1_chunk9.txt\n",
      "Processing siva_audio_val_segments/siva_val1_chunk126.wav...\n",
      "Valid chunk and transcription saved: Siva_validation_audio/siva_val1_chunk126.wav and Siva_validation_texts/siva_val1_chunk126.txt\n",
      "Processing siva_audio_val_segments/siva_val1_chunk86.wav...\n",
      "Valid chunk and transcription saved: Siva_validation_audio/siva_val1_chunk86.wav and Siva_validation_texts/siva_val1_chunk86.txt\n",
      "Processing siva_audio_val_segments/siva_val1_chunk117.wav...\n",
      "Valid chunk and transcription saved: Siva_validation_audio/siva_val1_chunk117.wav and Siva_validation_texts/siva_val1_chunk117.txt\n",
      "Processing siva_audio_val_segments/siva_val1_chunk56.wav...\n",
      "Valid chunk and transcription saved: Siva_validation_audio/siva_val1_chunk56.wav and Siva_validation_texts/siva_val1_chunk56.txt\n",
      "Processing siva_audio_val_segments/siva_val1_chunk116.wav...\n",
      "Valid chunk and transcription saved: Siva_validation_audio/siva_val1_chunk116.wav and Siva_validation_texts/siva_val1_chunk116.txt\n",
      "Processing siva_audio_val_segments/siva_val1_chunk122.wav...\n",
      "Valid chunk and transcription saved: Siva_validation_audio/siva_val1_chunk122.wav and Siva_validation_texts/siva_val1_chunk122.txt\n",
      "Processing siva_audio_val_segments/siva_val1_chunk121.wav...\n",
      "Valid chunk and transcription saved: Siva_validation_audio/siva_val1_chunk121.wav and Siva_validation_texts/siva_val1_chunk121.txt\n",
      "Processing siva_audio_val_segments/siva_val1_chunk92.wav...\n",
      "Valid chunk and transcription saved: Siva_validation_audio/siva_val1_chunk92.wav and Siva_validation_texts/siva_val1_chunk92.txt\n",
      "Processing siva_audio_val_segments/siva_val1_chunk13.wav...\n",
      "Valid chunk and transcription saved: Siva_validation_audio/siva_val1_chunk13.wav and Siva_validation_texts/siva_val1_chunk13.txt\n",
      "Processing siva_audio_val_segments/siva_val1_chunk79.wav...\n",
      "Valid chunk and transcription saved: Siva_validation_audio/siva_val1_chunk79.wav and Siva_validation_texts/siva_val1_chunk79.txt\n",
      "Processing siva_audio_val_segments/siva_val1_chunk81.wav...\n",
      "Valid chunk and transcription saved: Siva_validation_audio/siva_val1_chunk81.wav and Siva_validation_texts/siva_val1_chunk81.txt\n",
      "Processing siva_audio_val_segments/siva_val1_chunk106.wav...\n",
      "Valid chunk and transcription saved: Siva_validation_audio/siva_val1_chunk106.wav and Siva_validation_texts/siva_val1_chunk106.txt\n",
      "Processing siva_audio_val_segments/siva_val1_chunk69.wav...\n",
      "Valid chunk and transcription saved: Siva_validation_audio/siva_val1_chunk69.wav and Siva_validation_texts/siva_val1_chunk69.txt\n",
      "Processing siva_audio_val_segments/siva_val1_chunk36.wav...\n",
      "Valid chunk and transcription saved: Siva_validation_audio/siva_val1_chunk36.wav and Siva_validation_texts/siva_val1_chunk36.txt\n",
      "Processing siva_audio_val_segments/siva_val1_chunk149.wav...\n",
      "Valid chunk and transcription saved: Siva_validation_audio/siva_val1_chunk149.wav and Siva_validation_texts/siva_val1_chunk149.txt\n",
      "Processing siva_audio_val_segments/siva_val1_chunk28.wav...\n",
      "Valid chunk and transcription saved: Siva_validation_audio/siva_val1_chunk28.wav and Siva_validation_texts/siva_val1_chunk28.txt\n",
      "Processing siva_audio_val_segments/siva_val1_chunk12.wav...\n",
      "Valid chunk and transcription saved: Siva_validation_audio/siva_val1_chunk12.wav and Siva_validation_texts/siva_val1_chunk12.txt\n",
      "Processing siva_audio_val_segments/siva_val1_chunk129.wav...\n",
      "Valid chunk and transcription saved: Siva_validation_audio/siva_val1_chunk129.wav and Siva_validation_texts/siva_val1_chunk129.txt\n",
      "Processing siva_audio_val_segments/siva_val1_chunk46.wav...\n",
      "Valid chunk and transcription saved: Siva_validation_audio/siva_val1_chunk46.wav and Siva_validation_texts/siva_val1_chunk46.txt\n",
      "Processing siva_audio_val_segments/siva_val1_chunk124.wav...\n",
      "Valid chunk and transcription saved: Siva_validation_audio/siva_val1_chunk124.wav and Siva_validation_texts/siva_val1_chunk124.txt\n",
      "Processing siva_audio_val_segments/siva_val1_chunk109.wav...\n",
      "Valid chunk and transcription saved: Siva_validation_audio/siva_val1_chunk109.wav and Siva_validation_texts/siva_val1_chunk109.txt\n",
      "Processing siva_audio_val_segments/siva_val1_chunk125.wav...\n",
      "Valid chunk and transcription saved: Siva_validation_audio/siva_val1_chunk125.wav and Siva_validation_texts/siva_val1_chunk125.txt\n",
      "Processing siva_audio_val_segments/siva_val1_chunk105.wav...\n",
      "Valid chunk and transcription saved: Siva_validation_audio/siva_val1_chunk105.wav and Siva_validation_texts/siva_val1_chunk105.txt\n",
      "Processing siva_audio_val_segments/siva_val1_chunk123.wav...\n",
      "Valid chunk and transcription saved: Siva_validation_audio/siva_val1_chunk123.wav and Siva_validation_texts/siva_val1_chunk123.txt\n",
      "Processing siva_audio_val_segments/siva_val1_chunk63.wav...\n",
      "Valid chunk and transcription saved: Siva_validation_audio/siva_val1_chunk63.wav and Siva_validation_texts/siva_val1_chunk63.txt\n",
      "Processing siva_audio_val_segments/siva_val1_chunk99.wav...\n",
      "Valid chunk and transcription saved: Siva_validation_audio/siva_val1_chunk99.wav and Siva_validation_texts/siva_val1_chunk99.txt\n",
      "Processing siva_audio_val_segments/siva_val1_chunk143.wav...\n",
      "Valid chunk and transcription saved: Siva_validation_audio/siva_val1_chunk143.wav and Siva_validation_texts/siva_val1_chunk143.txt\n",
      "Processing siva_audio_val_segments/siva_val1_chunk134.wav...\n",
      "Valid chunk and transcription saved: Siva_validation_audio/siva_val1_chunk134.wav and Siva_validation_texts/siva_val1_chunk134.txt\n",
      "Processing siva_audio_val_segments/siva_val1_chunk98.wav...\n",
      "Valid chunk and transcription saved: Siva_validation_audio/siva_val1_chunk98.wav and Siva_validation_texts/siva_val1_chunk98.txt\n",
      "Processing siva_audio_val_segments/siva_val1_chunk96.wav...\n",
      "Valid chunk and transcription saved: Siva_validation_audio/siva_val1_chunk96.wav and Siva_validation_texts/siva_val1_chunk96.txt\n",
      "Processing siva_audio_val_segments/siva_val1_chunk130.wav...\n",
      "Valid chunk and transcription saved: Siva_validation_audio/siva_val1_chunk130.wav and Siva_validation_texts/siva_val1_chunk130.txt\n",
      "Processing siva_audio_val_segments/siva_val1_chunk11.wav...\n",
      "Valid chunk and transcription saved: Siva_validation_audio/siva_val1_chunk11.wav and Siva_validation_texts/siva_val1_chunk11.txt\n",
      "Processing siva_audio_val_segments/siva_val1_chunk127.wav...\n",
      "Valid chunk and transcription saved: Siva_validation_audio/siva_val1_chunk127.wav and Siva_validation_texts/siva_val1_chunk127.txt\n",
      "Processing siva_audio_val_segments/siva_val1_chunk38.wav...\n",
      "Valid chunk and transcription saved: Siva_validation_audio/siva_val1_chunk38.wav and Siva_validation_texts/siva_val1_chunk38.txt\n",
      "Processing siva_audio_val_segments/siva_val1_chunk44.wav...\n",
      "Valid chunk and transcription saved: Siva_validation_audio/siva_val1_chunk44.wav and Siva_validation_texts/siva_val1_chunk44.txt\n",
      "Processing siva_audio_val_segments/siva_val1_chunk51.wav...\n",
      "Valid chunk and transcription saved: Siva_validation_audio/siva_val1_chunk51.wav and Siva_validation_texts/siva_val1_chunk51.txt\n",
      "Processing siva_audio_val_segments/siva_val1_chunk31.wav...\n",
      "Valid chunk and transcription saved: Siva_validation_audio/siva_val1_chunk31.wav and Siva_validation_texts/siva_val1_chunk31.txt\n",
      "Processing siva_audio_val_segments/siva_val1_chunk107.wav...\n",
      "Valid chunk and transcription saved: Siva_validation_audio/siva_val1_chunk107.wav and Siva_validation_texts/siva_val1_chunk107.txt\n",
      "Processing siva_audio_val_segments/siva_val1_chunk139.wav...\n",
      "Valid chunk and transcription saved: Siva_validation_audio/siva_val1_chunk139.wav and Siva_validation_texts/siva_val1_chunk139.txt\n",
      "Processing siva_audio_val_segments/siva_val1_chunk110.wav...\n",
      "Valid chunk and transcription saved: Siva_validation_audio/siva_val1_chunk110.wav and Siva_validation_texts/siva_val1_chunk110.txt\n",
      "Processing siva_audio_val_segments/siva_val1_chunk95.wav...\n",
      "Valid chunk and transcription saved: Siva_validation_audio/siva_val1_chunk95.wav and Siva_validation_texts/siva_val1_chunk95.txt\n",
      "Processing siva_audio_val_segments/siva_val1_chunk142.wav...\n",
      "Valid chunk and transcription saved: Siva_validation_audio/siva_val1_chunk142.wav and Siva_validation_texts/siva_val1_chunk142.txt\n",
      "Processing siva_audio_val_segments/siva_val1_chunk128.wav...\n",
      "Valid chunk and transcription saved: Siva_validation_audio/siva_val1_chunk128.wav and Siva_validation_texts/siva_val1_chunk128.txt\n",
      "Processing siva_audio_val_segments/siva_val1_chunk49.wav...\n",
      "Valid chunk and transcription saved: Siva_validation_audio/siva_val1_chunk49.wav and Siva_validation_texts/siva_val1_chunk49.txt\n",
      "Processing siva_audio_val_segments/siva_val1_chunk137.wav...\n",
      "Valid chunk and transcription saved: Siva_validation_audio/siva_val1_chunk137.wav and Siva_validation_texts/siva_val1_chunk137.txt\n",
      "Processing siva_audio_val_segments/siva_val1_chunk14.wav...\n",
      "Valid chunk and transcription saved: Siva_validation_audio/siva_val1_chunk14.wav and Siva_validation_texts/siva_val1_chunk14.txt\n",
      "Processing siva_audio_val_segments/siva_val1_chunk33.wav...\n",
      "Valid chunk and transcription saved: Siva_validation_audio/siva_val1_chunk33.wav and Siva_validation_texts/siva_val1_chunk33.txt\n",
      "Processing siva_audio_val_segments/siva_val1_chunk66.wav...\n",
      "Valid chunk and transcription saved: Siva_validation_audio/siva_val1_chunk66.wav and Siva_validation_texts/siva_val1_chunk66.txt\n",
      "Processing siva_audio_val_segments/siva_val1_chunk59.wav...\n",
      "Valid chunk and transcription saved: Siva_validation_audio/siva_val1_chunk59.wav and Siva_validation_texts/siva_val1_chunk59.txt\n",
      "Processing siva_audio_val_segments/siva_val1_chunk135.wav...\n",
      "Valid chunk and transcription saved: Siva_validation_audio/siva_val1_chunk135.wav and Siva_validation_texts/siva_val1_chunk135.txt\n",
      "Processing siva_audio_val_segments/siva_val1_chunk133.wav...\n",
      "Valid chunk and transcription saved: Siva_validation_audio/siva_val1_chunk133.wav and Siva_validation_texts/siva_val1_chunk133.txt\n",
      "Processing siva_audio_val_segments/siva_val1_chunk136.wav...\n",
      "Valid chunk and transcription saved: Siva_validation_audio/siva_val1_chunk136.wav and Siva_validation_texts/siva_val1_chunk136.txt\n",
      "Processing siva_audio_val_segments/siva_val1_chunk144.wav...\n",
      "Valid chunk and transcription saved: Siva_validation_audio/siva_val1_chunk144.wav and Siva_validation_texts/siva_val1_chunk144.txt\n",
      "Processing siva_audio_val_segments/siva_val1_chunk102.wav...\n",
      "Valid chunk and transcription saved: Siva_validation_audio/siva_val1_chunk102.wav and Siva_validation_texts/siva_val1_chunk102.txt\n",
      "Processing siva_audio_val_segments/siva_val1_chunk77.wav...\n",
      "Valid chunk and transcription saved: Siva_validation_audio/siva_val1_chunk77.wav and Siva_validation_texts/siva_val1_chunk77.txt\n",
      "Processing siva_audio_val_segments/siva_val1_chunk146.wav...\n",
      "Valid chunk and transcription saved: Siva_validation_audio/siva_val1_chunk146.wav and Siva_validation_texts/siva_val1_chunk146.txt\n",
      "Processing siva_audio_val_segments/siva_val1_chunk22.wav...\n",
      "Valid chunk and transcription saved: Siva_validation_audio/siva_val1_chunk22.wav and Siva_validation_texts/siva_val1_chunk22.txt\n",
      "Processing siva_audio_val_segments/siva_val1_chunk42.wav...\n",
      "Valid chunk and transcription saved: Siva_validation_audio/siva_val1_chunk42.wav and Siva_validation_texts/siva_val1_chunk42.txt\n",
      "Processing siva_audio_val_segments/siva_val1_chunk85.wav...\n",
      "Valid chunk and transcription saved: Siva_validation_audio/siva_val1_chunk85.wav and Siva_validation_texts/siva_val1_chunk85.txt\n",
      "Processing siva_audio_val_segments/siva_val1_chunk21.wav...\n",
      "Valid chunk and transcription saved: Siva_validation_audio/siva_val1_chunk21.wav and Siva_validation_texts/siva_val1_chunk21.txt\n",
      "Processing siva_audio_val_segments/siva_val1_chunk50.wav...\n",
      "Valid chunk and transcription saved: Siva_validation_audio/siva_val1_chunk50.wav and Siva_validation_texts/siva_val1_chunk50.txt\n",
      "Processing siva_audio_val_segments/siva_val1_chunk53.wav...\n",
      "Valid chunk and transcription saved: Siva_validation_audio/siva_val1_chunk53.wav and Siva_validation_texts/siva_val1_chunk53.txt\n",
      "Processing siva_audio_val_segments/siva_val1_chunk101.wav...\n",
      "Valid chunk and transcription saved: Siva_validation_audio/siva_val1_chunk101.wav and Siva_validation_texts/siva_val1_chunk101.txt\n",
      "Processing siva_audio_val_segments/siva_val1_chunk141.wav...\n",
      "Valid chunk and transcription saved: Siva_validation_audio/siva_val1_chunk141.wav and Siva_validation_texts/siva_val1_chunk141.txt\n",
      "Processing siva_audio_val_segments/siva_val1_chunk23.wav...\n",
      "Valid chunk and transcription saved: Siva_validation_audio/siva_val1_chunk23.wav and Siva_validation_texts/siva_val1_chunk23.txt\n",
      "Processing siva_audio_val_segments/siva_val1_chunk40.wav...\n",
      "Valid chunk and transcription saved: Siva_validation_audio/siva_val1_chunk40.wav and Siva_validation_texts/siva_val1_chunk40.txt\n",
      "Processing siva_audio_val_segments/siva_val1_chunk19.wav...\n",
      "Valid chunk and transcription saved: Siva_validation_audio/siva_val1_chunk19.wav and Siva_validation_texts/siva_val1_chunk19.txt\n",
      "Processing siva_audio_val_segments/siva_val1_chunk18.wav...\n",
      "Valid chunk and transcription saved: Siva_validation_audio/siva_val1_chunk18.wav and Siva_validation_texts/siva_val1_chunk18.txt\n",
      "Processing siva_audio_val_segments/siva_val1_chunk17.wav...\n",
      "Valid chunk and transcription saved: Siva_validation_audio/siva_val1_chunk17.wav and Siva_validation_texts/siva_val1_chunk17.txt\n",
      "Processing siva_audio_val_segments/siva_val1_chunk151.wav...\n",
      "Valid chunk and transcription saved: Siva_validation_audio/siva_val1_chunk151.wav and Siva_validation_texts/siva_val1_chunk151.txt\n",
      "Processing siva_audio_val_segments/siva_val1_chunk112.wav...\n",
      "Valid chunk and transcription saved: Siva_validation_audio/siva_val1_chunk112.wav and Siva_validation_texts/siva_val1_chunk112.txt\n",
      "Processing siva_audio_val_segments/siva_val1_chunk4.wav...\n",
      "Valid chunk and transcription saved: Siva_validation_audio/siva_val1_chunk4.wav and Siva_validation_texts/siva_val1_chunk4.txt\n",
      "Processing siva_audio_val_segments/siva_val1_chunk118.wav...\n",
      "Valid chunk and transcription saved: Siva_validation_audio/siva_val1_chunk118.wav and Siva_validation_texts/siva_val1_chunk118.txt\n",
      "Processing siva_audio_val_segments/siva_val1_chunk26.wav...\n",
      "Valid chunk and transcription saved: Siva_validation_audio/siva_val1_chunk26.wav and Siva_validation_texts/siva_val1_chunk26.txt\n",
      "Processing siva_audio_val_segments/siva_val1_chunk152.wav...\n",
      "Valid chunk and transcription saved: Siva_validation_audio/siva_val1_chunk152.wav and Siva_validation_texts/siva_val1_chunk152.txt\n",
      "Processing siva_audio_val_segments/siva_val1_chunk43.wav...\n",
      "Valid chunk and transcription saved: Siva_validation_audio/siva_val1_chunk43.wav and Siva_validation_texts/siva_val1_chunk43.txt\n",
      "Processing siva_audio_val_segments/siva_val1_chunk5.wav...\n",
      "Valid chunk and transcription saved: Siva_validation_audio/siva_val1_chunk5.wav and Siva_validation_texts/siva_val1_chunk5.txt\n",
      "Processing siva_audio_val_segments/siva_val1_chunk90.wav...\n",
      "Valid chunk and transcription saved: Siva_validation_audio/siva_val1_chunk90.wav and Siva_validation_texts/siva_val1_chunk90.txt\n",
      "Processing siva_audio_val_segments/siva_val1_chunk16.wav...\n",
      "Valid chunk and transcription saved: Siva_validation_audio/siva_val1_chunk16.wav and Siva_validation_texts/siva_val1_chunk16.txt\n",
      "Processing siva_audio_val_segments/siva_val1_chunk114.wav...\n",
      "Valid chunk and transcription saved: Siva_validation_audio/siva_val1_chunk114.wav and Siva_validation_texts/siva_val1_chunk114.txt\n",
      "Processing siva_audio_val_segments/siva_val1_chunk103.wav...\n",
      "Valid chunk and transcription saved: Siva_validation_audio/siva_val1_chunk103.wav and Siva_validation_texts/siva_val1_chunk103.txt\n",
      "Processing siva_audio_val_segments/siva_val1_chunk83.wav...\n",
      "Valid chunk and transcription saved: Siva_validation_audio/siva_val1_chunk83.wav and Siva_validation_texts/siva_val1_chunk83.txt\n",
      "Processing siva_audio_val_segments/siva_val1_chunk34.wav...\n",
      "Valid chunk and transcription saved: Siva_validation_audio/siva_val1_chunk34.wav and Siva_validation_texts/siva_val1_chunk34.txt\n",
      "Processing siva_audio_val_segments/siva_val1_chunk1.wav...\n",
      "Valid chunk and transcription saved: Siva_validation_audio/siva_val1_chunk1.wav and Siva_validation_texts/siva_val1_chunk1.txt\n",
      "Processing siva_audio_val_segments/siva_val1_chunk145.wav...\n",
      "Valid chunk and transcription saved: Siva_validation_audio/siva_val1_chunk145.wav and Siva_validation_texts/siva_val1_chunk145.txt\n",
      "Processing siva_audio_val_segments/siva_val1_chunk88.wav...\n",
      "Valid chunk and transcription saved: Siva_validation_audio/siva_val1_chunk88.wav and Siva_validation_texts/siva_val1_chunk88.txt\n",
      "Processing siva_audio_val_segments/siva_val1_chunk100.wav...\n",
      "Valid chunk and transcription saved: Siva_validation_audio/siva_val1_chunk100.wav and Siva_validation_texts/siva_val1_chunk100.txt\n",
      "Processing siva_audio_val_segments/siva_val1_chunk119.wav...\n",
      "Valid chunk and transcription saved: Siva_validation_audio/siva_val1_chunk119.wav and Siva_validation_texts/siva_val1_chunk119.txt\n",
      "Processing siva_audio_val_segments/siva_val1_chunk131.wav...\n",
      "Valid chunk and transcription saved: Siva_validation_audio/siva_val1_chunk131.wav and Siva_validation_texts/siva_val1_chunk131.txt\n"
     ]
    }
   ],
   "source": [
    "import os\n",
    "import speech_recognition as sr\n",
    "from pydub import AudioSegment\n",
    "\n",
    "def transcribe_audio(audio_file):\n",
    "    recognizer = sr.Recognizer()\n",
    "\n",
    "    with sr.AudioFile(audio_file) as source:\n",
    "        audio = recognizer.record(source) \n",
    "    \n",
    "    try:\n",
    "        # Use Google Web Speech API for transcription in Hindi (language code: hi-IN)\n",
    "        text = recognizer.recognize_google(audio, language=\"en-IN\")\n",
    "        return text\n",
    "    except sr.UnknownValueError:\n",
    "        return \"Audio could not be understood\"\n",
    "    except sr.RequestError as e:\n",
    "        return f\"Error with the API service: {e}\"\n",
    "\n",
    "def process_directory(input_directory, valid_chunks_directory, valid_texts_directory):\n",
    "    if not os.path.exists(valid_chunks_directory):\n",
    "        os.makedirs(valid_chunks_directory)\n",
    "    \n",
    "    if not os.path.exists(valid_texts_directory):\n",
    "        os.makedirs(valid_texts_directory)\n",
    "\n",
    "    for filename in os.listdir(input_directory):\n",
    "        if filename.endswith(\".wav\"):\n",
    "            file_path = os.path.join(input_directory, filename)\n",
    "            print(f\"Processing {file_path}...\")\n",
    "            audio = AudioSegment.from_file(file_path)\n",
    "            duration_in_seconds = len(audio) / 1000  \n",
    "            \n",
    "            if duration_in_seconds > 30:\n",
    "                print(f\"Skipping {filename} (duration: {duration_in_seconds} seconds, longer than 30 seconds)\")\n",
    "                continue  \n",
    "            \n",
    "            valid_audio_path = os.path.join(valid_chunks_directory, filename)\n",
    "            audio.export(valid_audio_path, format=\"wav\")\n",
    "            \n",
    "            transcript = transcribe_audio(valid_audio_path)\n",
    "            \n",
    "            transcription_filename = os.path.splitext(filename)[0] + \".txt\"\n",
    "            transcription_path = os.path.join(valid_texts_directory, transcription_filename)\n",
    "            \n",
    "            with open(transcription_path, 'w', encoding='utf-8') as transcription_file:\n",
    "                transcription_file.write(transcript)\n",
    "            \n",
    "            print(f\"Valid chunk and transcription saved: {valid_audio_path} and {transcription_path}\")\n",
    "\n",
    "input_directory = \"siva_audio_val_segments\"  \n",
    "valid_chunks_directory = \"Siva_validation_audio\"  \n",
    "valid_texts_directory = \"Siva_validation_texts\"  \n",
    "process_directory(input_directory, valid_chunks_directory, valid_texts_directory)\n"
   ]
  },
  {
   "cell_type": "markdown",
   "metadata": {},
   "source": [
    "# Creating a CSV file to Load data into Hugging face\n",
    "# csv file has two colomns, one for audio files paths and another is for transcrptions."
   ]
  },
  {
   "cell_type": "code",
   "execution_count": 9,
   "metadata": {},
   "outputs": [
    {
     "name": "stdout",
     "output_type": "stream",
     "text": [
      "Audio Files:\n",
      "dict_keys(['siva_val1_chunk148', 'siva_val1_chunk74', 'siva_val1_chunk15', 'siva_val1_chunk29', 'siva_val1_chunk94', 'siva_val1_chunk48', 'siva_val1_chunk138', 'siva_val1_chunk132', 'siva_val1_chunk61', 'siva_val1_chunk60', 'siva_val1_chunk71', 'siva_val1_chunk9', 'siva_val1_chunk126', 'siva_val1_chunk86', 'siva_val1_chunk117', 'siva_val1_chunk56', 'siva_val1_chunk116', 'siva_val1_chunk122', 'siva_val1_chunk121', 'siva_val1_chunk92', 'siva_val1_chunk13', 'siva_val1_chunk79', 'siva_val1_chunk81', 'siva_val1_chunk106', 'siva_val1_chunk69', 'siva_val1_chunk36', 'siva_val1_chunk149', 'siva_val1_chunk28', 'siva_val1_chunk12', 'siva_val1_chunk129', 'siva_val1_chunk46', 'siva_val1_chunk124', 'siva_val1_chunk109', 'siva_val1_chunk125', 'siva_val1_chunk105', 'siva_val1_chunk123', 'siva_val1_chunk63', 'siva_val1_chunk99', 'siva_val1_chunk143', 'siva_val1_chunk134', 'siva_val1_chunk98', 'siva_val1_chunk96', 'siva_val1_chunk130', 'siva_val1_chunk11', 'siva_val1_chunk127', 'siva_val1_chunk38', 'siva_val1_chunk44', 'siva_val1_chunk51', 'siva_val1_chunk31', 'siva_val1_chunk107', 'siva_val1_chunk139', 'siva_val1_chunk110', 'siva_val1_chunk95', 'siva_val1_chunk142', 'siva_val1_chunk128', 'siva_val1_chunk49', 'siva_val1_chunk137', 'siva_val1_chunk14', 'siva_val1_chunk33', 'siva_val1_chunk66', 'siva_val1_chunk59', 'siva_val1_chunk135', 'siva_val1_chunk133', 'siva_val1_chunk136', 'siva_val1_chunk144', 'siva_val1_chunk102', 'siva_val1_chunk77', 'siva_val1_chunk146', 'siva_val1_chunk22', 'siva_val1_chunk42', 'siva_val1_chunk85', 'siva_val1_chunk21', 'siva_val1_chunk50', 'siva_val1_chunk53', 'siva_val1_chunk101', 'siva_val1_chunk141', 'siva_val1_chunk23', 'siva_val1_chunk40', 'siva_val1_chunk19', 'siva_val1_chunk18', 'siva_val1_chunk17', 'siva_val1_chunk151', 'siva_val1_chunk112', 'siva_val1_chunk4', 'siva_val1_chunk118', 'siva_val1_chunk26', 'siva_val1_chunk152', 'siva_val1_chunk43', 'siva_val1_chunk5', 'siva_val1_chunk90', 'siva_val1_chunk16', 'siva_val1_chunk114', 'siva_val1_chunk103', 'siva_val1_chunk83', 'siva_val1_chunk34', 'siva_val1_chunk1', 'siva_val1_chunk145', 'siva_val1_chunk88', 'siva_val1_chunk100', 'siva_val1_chunk119', 'siva_val1_chunk131'])\n",
      "Text Files:\n",
      "dict_keys(['siva_val1_chunk123', 'siva_val1_chunk21', 'siva_val1_chunk46', 'siva_val1_chunk4', 'siva_val1_chunk151', 'siva_val1_chunk34', 'siva_val1_chunk139', 'siva_val1_chunk49', 'siva_val1_chunk43', 'siva_val1_chunk23', 'siva_val1_chunk26', 'siva_val1_chunk16', 'siva_val1_chunk12', 'siva_val1_chunk122', 'siva_val1_chunk63', 'siva_val1_chunk50', 'siva_val1_chunk92', 'siva_val1_chunk137', 'siva_val1_chunk22', 'siva_val1_chunk129', 'siva_val1_chunk33', 'siva_val1_chunk145', 'siva_val1_chunk71', 'siva_val1_chunk53', 'siva_val1_chunk17', 'siva_val1_chunk118', 'siva_val1_chunk125', 'siva_val1_chunk40', 'siva_val1_chunk11', 'siva_val1_chunk116', 'siva_val1_chunk81', 'siva_val1_chunk5', 'siva_val1_chunk138', 'siva_val1_chunk74', 'siva_val1_chunk149', 'siva_val1_chunk69', 'siva_val1_chunk60', 'siva_val1_chunk148', 'siva_val1_chunk121', 'siva_val1_chunk114', 'siva_val1_chunk56', 'siva_val1_chunk98', 'siva_val1_chunk77', 'siva_val1_chunk152', 'siva_val1_chunk88', 'siva_val1_chunk96', 'siva_val1_chunk99', 'siva_val1_chunk143', 'siva_val1_chunk128', 'siva_val1_chunk85', 'siva_val1_chunk127', 'siva_val1_chunk13', 'siva_val1_chunk119', 'siva_val1_chunk131', 'siva_val1_chunk101', 'siva_val1_chunk90', 'siva_val1_chunk38', 'siva_val1_chunk36', 'siva_val1_chunk79', 'siva_val1_chunk48', 'siva_val1_chunk130', 'siva_val1_chunk83', 'siva_val1_chunk146', 'siva_val1_chunk110', 'siva_val1_chunk117', 'siva_val1_chunk107', 'siva_val1_chunk42', 'siva_val1_chunk124', 'siva_val1_chunk134', 'siva_val1_chunk136', 'siva_val1_chunk86', 'siva_val1_chunk126', 'siva_val1_chunk94', 'siva_val1_chunk59', 'siva_val1_chunk66', 'siva_val1_chunk100', 'siva_val1_chunk133', 'siva_val1_chunk1', 'siva_val1_chunk109', 'siva_val1_chunk102', 'siva_val1_chunk142', 'siva_val1_chunk9', 'siva_val1_chunk95', 'siva_val1_chunk105', 'siva_val1_chunk31', 'siva_val1_chunk112', 'siva_val1_chunk141', 'siva_val1_chunk61', 'siva_val1_chunk14', 'siva_val1_chunk44', 'siva_val1_chunk135', 'siva_val1_chunk51', 'siva_val1_chunk144', 'siva_val1_chunk18', 'siva_val1_chunk106', 'siva_val1_chunk29', 'siva_val1_chunk19', 'siva_val1_chunk28', 'siva_val1_chunk15', 'siva_val1_chunk132', 'siva_val1_chunk103'])\n",
      "✅ CSV file created successfully: siva_validation.csv\n"
     ]
    }
   ],
   "source": [
    "import os\n",
    "import pandas as pd\n",
    "\n",
    "def get_file_mapping(folder_path, file_extension):\n",
    "    \"\"\"\n",
    "    Gathers all files with a given extension in a folder (without subfolders).\n",
    "    Returns a dictionary mapping file names (without extension) to their full paths.\n",
    "    \"\"\"\n",
    "    file_mapping = {}\n",
    "    for file in os.listdir(folder_path):\n",
    "        file_path = os.path.join(folder_path, file)\n",
    "        if os.path.isfile(file_path) and file.endswith(file_extension):\n",
    "            file_name = os.path.splitext(file)[0] \n",
    "            file_mapping[file_name] = file_path\n",
    "    return file_mapping\n",
    "\n",
    "def create_csv_mapping(audio_folder, text_folder, output_csv):\n",
    "    \"\"\"\n",
    "    Maps audio files to their corresponding text files and exports the result to a CSV file.\n",
    "    \"\"\"\n",
    "    audio_mapping = get_file_mapping(audio_folder, \".wav\")\n",
    "    text_mapping = get_file_mapping(text_folder, \".txt\")\n",
    "\n",
    "    data = []\n",
    "\n",
    "    print(\"Audio Files:\")\n",
    "    print(audio_mapping.keys())\n",
    "    print(\"Text Files:\")\n",
    "    print(text_mapping.keys())\n",
    "\n",
    "    for audio_name, audio_path in audio_mapping.items():\n",
    "        if audio_name in text_mapping:\n",
    "            with open(text_mapping[audio_name], 'r', encoding='utf-8') as f:\n",
    "                transcription = f.read().strip()\n",
    "            data.append({\n",
    "                \"audio\": audio_path,\n",
    "                \"transcription\": transcription\n",
    "            })\n",
    "        else:\n",
    "            print(f\"❗ Warning: No transcription found for {audio_name}\")\n",
    "\n",
    "    if data:\n",
    "        df = pd.DataFrame(data)\n",
    "        df.to_csv(output_csv, index=False)\n",
    "        print(f\"✅ CSV file created successfully: {output_csv}\")\n",
    "    else:\n",
    "        print(\"❗ No matching audio and text files found.\")\n",
    "\n",
    "if __name__ == \"__main__\":\n",
    "    audio_folder = \"Siva_validation_audio\"   \n",
    "    text_folder = \"Siva_validation_texts\"     \n",
    "    output_csv = \"siva_validation.csv\"        \n",
    "\n",
    "    create_csv_mapping(audio_folder, text_folder, output_csv)\n"
   ]
  },
  {
   "cell_type": "code",
   "execution_count": null,
   "metadata": {},
   "outputs": [],
   "source": []
  },
  {
   "cell_type": "markdown",
   "metadata": {},
   "source": [
    "# This is simple code to load our data into hugging face."
   ]
  },
  {
   "cell_type": "code",
   "execution_count": null,
   "metadata": {},
   "outputs": [],
   "source": []
  },
  {
   "cell_type": "code",
   "execution_count": 10,
   "metadata": {},
   "outputs": [
    {
     "data": {
      "application/vnd.jupyter.widget-view+json": {
       "model_id": "b7c5bdf9ce83460bb9a00d93236e7aed",
       "version_major": 2,
       "version_minor": 0
      },
      "text/plain": [
       "Generating validation split: 0 examples [00:00, ? examples/s]"
      ]
     },
     "metadata": {},
     "output_type": "display_data"
    },
    {
     "data": {
      "application/vnd.jupyter.widget-view+json": {
       "model_id": "7282ee7002a24f66bad3f374264f7281",
       "version_major": 2,
       "version_minor": 0
      },
      "text/plain": [
       "Uploading the dataset shards:   0%|          | 0/1 [00:00<?, ?it/s]"
      ]
     },
     "metadata": {},
     "output_type": "display_data"
    },
    {
     "data": {
      "application/vnd.jupyter.widget-view+json": {
       "model_id": "ae0f8bce32af412c8c66c035875e6fc2",
       "version_major": 2,
       "version_minor": 0
      },
      "text/plain": [
       "Map:   0%|          | 0/101 [00:00<?, ? examples/s]"
      ]
     },
     "metadata": {},
     "output_type": "display_data"
    },
    {
     "data": {
      "application/vnd.jupyter.widget-view+json": {
       "model_id": "587d3e68b0774778956c9cf93b7c5872",
       "version_major": 2,
       "version_minor": 0
      },
      "text/plain": [
       "Creating parquet from Arrow format:   0%|          | 0/2 [00:00<?, ?ba/s]"
      ]
     },
     "metadata": {},
     "output_type": "display_data"
    },
    {
     "data": {
      "text/plain": [
       "CommitInfo(commit_url='https://huggingface.co/datasets/sivakgp/siva-voice-validation/commit/c075d8d11892536df3bf650d173882af17f31070', commit_message='Upload dataset', commit_description='', oid='c075d8d11892536df3bf650d173882af17f31070', pr_url=None, pr_revision=None, pr_num=None)"
      ]
     },
     "execution_count": 10,
     "metadata": {},
     "output_type": "execute_result"
    }
   ],
   "source": [
    "from datasets import DatasetDict, Audio\n",
    "\n",
    "#train_dataset = DatasetDict.from_csv({\"train\": \"hindi_train.csv\"})\n",
    "validation_dataset = DatasetDict.from_csv({\"validation\": \"siva_validation.csv\"})\n",
    "dataset = DatasetDict({\n",
    "    #\"train\": train_dataset[\"train\"],\n",
    "    \"validation\": validation_dataset[\"validation\"]\n",
    "})\n",
    "\n",
    "dataset = dataset.cast_column(\"audio\", Audio())\n",
    "dataset.push_to_hub(\"siva-voice-validation\")\n"
   ]
  },
  {
   "cell_type": "code",
   "execution_count": null,
   "metadata": {},
   "outputs": [],
   "source": []
  },
  {
   "cell_type": "code",
   "execution_count": null,
   "metadata": {},
   "outputs": [],
   "source": []
  }
 ],
 "metadata": {
  "kernelspec": {
   "display_name": "Python 3 (ipykernel)",
   "language": "python",
   "name": "python3"
  },
  "language_info": {
   "codemirror_mode": {
    "name": "ipython",
    "version": 3
   },
   "file_extension": ".py",
   "mimetype": "text/x-python",
   "name": "python",
   "nbconvert_exporter": "python",
   "pygments_lexer": "ipython3",
   "version": "3.10.12"
  }
 },
 "nbformat": 4,
 "nbformat_minor": 4
}
